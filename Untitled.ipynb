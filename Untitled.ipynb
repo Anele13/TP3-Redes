{
 "cells": [
  {
   "cell_type": "markdown",
   "metadata": {},
   "source": [
    "### TP3 Redes y Transmision de Datos\n",
    "\n",
    "#### Alumnos:\n",
    "\n",
    "#### Garibaldi Anele\n",
    "#### Vergara Marcos"
   ]
  },
  {
   "cell_type": "markdown",
   "metadata": {},
   "source": [
    "#### 1. En el gráfico se indica la red del rectorado de la UNP. Elija entre las opciones dadas las que correspondan a direcciones broadcast.\n",
    "\n",
    "\n",
    "\n",
    "           172.16.32.255\n",
    "           172.16.47.255\n",
    "           172.16.64.255\n",
    "           172.16.82.255\n",
    "           172.16.79.255\n",
    "           172.16.95.255\n",
    "           \n",
    "![title](img/1.png)"
   ]
  },
  {
   "cell_type": "markdown",
   "metadata": {},
   "source": [
    "#### 2. Ud. está configurando una subred de la oficina central de los supermercados “La Ocasión”. Necesita asignar direcciones IP de hosts de la subred. Definió la máscara 255.255.255.224.\n",
    "        a. Cuáles de las siguientes direcciones son válidas para asignar a host?.\n",
    "\n",
    "    1)15.234.118.63\n",
    "\n",
    "    2)92.11.178.93\n",
    "\n",
    "    3)134.178.18.56\n",
    "\n",
    "    4)192.168.16.87\n",
    "\n",
    "    5)201.45.116.159\n",
    "\n",
    "    6)217.63.12.192\n",
    "\n",
    "        b. Ud. debe particionar la red 172.12.0.0 en subredes tales que puedan alojar 458 hosts IP. Además se debe lograr el máximo número de subredes. Determine la máscara a utilizar.\n"
   ]
  },
  {
   "cell_type": "markdown",
   "metadata": {},
   "source": [
    "respuesta b la amscara es 255.255.254 porque usas 9 bits para que puedas alojar 458 host. en realidad te sobra espacio pero con 8 bits solo tendrias 256 opciones."
   ]
  },
  {
   "cell_type": "code",
   "execution_count": 22,
   "metadata": {
    "scrolled": true
   },
   "outputs": [
    {
     "name": "stdout",
     "output_type": "stream",
     "text": [
      "[0, 32, 64, 96, 128, 160, 192, 224, 256, 288]\n",
      "\n",
      "63 0b111111\n",
      "93 0b1011101\n",
      "56 0b111000\n",
      "87 0b1010111\n",
      "159 0b10011111\n",
      "192 0b11000000\n"
     ]
    }
   ],
   "source": [
    "print([x * 32 for x in range(0,10)])\n",
    "print(\"\")\n",
    "print(63, bin(63))\n",
    "print(93, bin(93))\n",
    "print(56, bin(56))\n",
    "print(87, bin(87))\n",
    "print(159, bin(159))\n",
    "print(192, bin(192))"
   ]
  },
  {
   "cell_type": "markdown",
   "metadata": {},
   "source": [
    "### 4"
   ]
  },
  {
   "cell_type": "code",
   "execution_count": 40,
   "metadata": {},
   "outputs": [
    {
     "name": "stdout",
     "output_type": "stream",
     "text": [
      "0b10000000\n",
      "64\n",
      "126\n"
     ]
    }
   ],
   "source": [
    "print(bin(128))\n",
    "print(int(0b01000000))\n",
    "print(int(0b01111110))"
   ]
  },
  {
   "cell_type": "markdown",
   "metadata": {},
   "source": [
    "    las unicas que no son direcciones validas son direcciones de broadcast son la que termina en 63, la 159 ya que ambas son direccion de broadcast la 192 es direccion de red asiq tampoco es ip valida de host"
   ]
  },
  {
   "cell_type": "markdown",
   "metadata": {},
   "source": [
    "#### 3. Para el esquema de la figura complete la siguiente tabla. Considere que se ha utilizado la máscara 255.255.255.192\n",
    "\n",
    "![title](img/2.png)\n",
    "\n",
    "![title](img/3.png)"
   ]
  },
  {
   "cell_type": "markdown",
   "metadata": {},
   "source": [
    "####     4. El siguiente es un sistema con subredes A,B,D y E y 2 routers R1 y R2. Se desea hacer subnetting utilizando la dirección que nos otorga el ISP 200.37.6.128/28. Indicar la dirección de cada subred que es necesario asignar teniendo en cuenta que:\n",
    "        a. A debe contener 7 hosts.\n",
    "        b. B debe contener 15 hosts.\n",
    "        c. D debe contener 30 hosts.\n",
    "        d. E debe contener 13 hosts.\n",
    "\n",
    "En caso que la dirección otorgada por el ISP no alcance para efectuar el subnetting deseado, cual sería la máscara óptima que se requiere.\n",
    "\n",
    "![title](img/4.png)"
   ]
  },
  {
   "cell_type": "markdown",
   "metadata": {},
   "source": [
    "### 4. Respuesta\n",
    "\n",
    "a) Si A debe albergar 7 host. como minimo necesita 4 bits de host. porque con 3 bits tendrias 8 opciones pero descontando broadcast y direccion de subred solo hay 6 opciones para contener host. y necesitamos una mas\n",
    "\n",
    "si consideramos que usamos 28 bits para la red, quedan disponibles solo **4** bits para host, por lo que si necesito \n",
    "\n",
    "<strong><span style=\"background-color: #babaf5\"> 1000</span> <span style=\"background-color: #f9a2a2\">0000 </span></strong>\n",
    "\n",
    "<span style=\"background-color: #babaf5\">Red</span> \n",
    "<span style=\"background-color: #f9a2a2\"> Host </span> \n",
    "\n",
    "**En este caso la mascara de bits queda en: 200.37.6.128/28**\n",
    "\n",
    "\n",
    "\n",
    "\n",
    "\n",
    "\n",
    "b) Si B debe albergar 15 host. como minimo necesita 5 bits de host. porque con 4 bits tendrias 16 opciones pero descontando broadcast y direccion de subred solo hay 14 opciones para contener host. y necesitamos una mas.\n",
    "\n",
    "si consideramos que usamos 28 bits para la red, ahora son 27 porque uso **5** bits para hots.\n",
    "\n",
    "<strong><span style=\"background-color: #babaf5\"> 100</span> <span style=\"background-color: #f9a2a2\">00000 </span></strong>\n",
    "\n",
    "<span style=\"background-color: #babaf5\">Red</span> \n",
    "<span style=\"background-color: #f9a2a2\"> Host </span>\n",
    "\n",
    "**En este caso la mascara de bits queda en: 200.37.6.128/27**\n",
    "\n",
    "\n",
    "\n",
    "\n",
    "c) Si D debe albergar 30 host. la cantidad de bits disponibles para host (5 bits) alcanzan justo. porque son 32 bits y descontando direccion de red y broadcast obtengo 30 bits de host.\n",
    "\n",
    "<strong><span style=\"background-color: #babaf5\"> 100</span> <span style=\"background-color: #f9a2a2\">00000 </span></strong>\n",
    "\n",
    "<span style=\"background-color: #babaf5\">Red</span> \n",
    "<span style=\"background-color: #f9a2a2\"> Host </span> \n",
    "\n",
    "**En este caso la mascara de bits queda en: 200.37.6.128/27**\n",
    "\n",
    "\n",
    "\n",
    "\n",
    "d) Si E debe albergar 13 host. como minimo necesita 4 bits de host. porque con esa cantidad tengo espacio para albergar 16 opciones distintas. descontando direccion de subred y direccion de broadcast me quedan 14 opciones y ocuparia 13. una de las opciones queda sin uso.\n",
    "\n",
    "si consideramos que usamos 28 bits para la red, quedan disponibles solo 5 bits para host, por lo que si necesito \n",
    "\n",
    "<strong><span style=\"background-color: #babaf5\"> 1000</span> <span style=\"background-color: #f9a2a2\">0000 </span></strong>\n",
    "\n",
    "<span style=\"background-color: #babaf5\">Red</span> \n",
    "<span style=\"background-color: #f9a2a2\"> Host </span> \n",
    "\n",
    "**En este caso la mascara de bits queda en: 200.37.6.128/28**\n",
    "\n",
    "<strong> SE DEBE EMPEZAR EN ESTOS CASOS CUANDO DEBO REPARTIR IP's, POR LA SUBRED QUE CONTENGA MENOR CANTIDAD DE HOST. IR REPARTIENDO IP's EN ORDEN CRECIENTE</strong>\n",
    "\n",
    "Red A:\n",
    "    direccion de red: 200.37.6.128\n",
    "    primer direccion de host asignable: 200.37.6.129\n",
    "    ultima direccion de host asignable: 200.37.6.142\n",
    "\n",
    "Red B:\n",
    "    direccion de red: 200.37.6.144\n",
    "    primer direccion de host asignable: 200.37.6.145\n",
    "    ultima direccion de host asignable: 200.37.6.160"
   ]
  },
  {
   "cell_type": "code",
   "execution_count": null,
   "metadata": {},
   "outputs": [],
   "source": []
  },
  {
   "cell_type": "markdown",
   "metadata": {},
   "source": [
    "   **Parte 2: IP Fragmentación – ICMP - Encaminamiento**"
   ]
  },
  {
   "cell_type": "code",
   "execution_count": null,
   "metadata": {},
   "outputs": [],
   "source": []
  },
  {
   "cell_type": "markdown",
   "metadata": {},
   "source": [
    "#### 5. Un router recibe un datagrama con header básico y longitud total 832 bytes.  Debe  ser  enviado  a  un  segmento  en  el  que  el  MTU  es  de  520 bytes. Determine en forma completa, acorde con los datos suministrados, los campos principales de los encabezados de los segmentos que se generarán."
   ]
  },
  {
   "cell_type": "markdown",
   "metadata": {},
   "source": [
    "####     6. Dada la situación representada en la figura:\n",
    "    a. Asignar razonablemente direcciones IP válidas a las interfaces de red a las que les falte.\n",
    "    b. Establecer tablas de encaminamiento para que (simultáneamente):\n",
    "            i. A hable con D y viceversa\n",
    "            ii. E hable con C pero no con D\n",
    "            iii. A no pueda hablar con F\n",
    "NOTA: La máscara de subred es 255.255.255.0 en todos los casos.\n",
    "\n",
    "![title](img/5.png)"
   ]
  },
  {
   "cell_type": "markdown",
   "metadata": {},
   "source": [
    "####     7. En la figura se muestra una red basada en protocolos TCP/IP. La máscara de cada subred es 255.255.255.0. No se permiten rutas por defecto.\n",
    "\n",
    "La tabla de encaminamiento de A se muestra en la figura. El resto de tablas se supone que no impiden ningún camino de comunicación.\n",
    "Se pide:\n",
    "    a. Qué dirección IP podría tener H? ¿Y F? Justifíque.\n",
    "    b. Puede hablar A con C? Justifíque.\n",
    "    c. Puede hablar A con E? Justifíque.\n",
    "    d. Cómo habría que actualizar alguna tabla de encaminamiento para que A hable con C pero no con D? Justifíque.\n",
    "\n",
    "![title](img/6.png)"
   ]
  },
  {
   "cell_type": "markdown",
   "metadata": {},
   "source": [
    "####     8. En la figura siguiente se muestra una red basada en protocolos TCP/IP. En cada host se indica su dirección de capa de enlace (MAC) y en algunos casos, su dirección IP de la red a la que pertenece. La máscara de todas las subredes es /24. La tabla de encaminamiento de A se muestra en la figura. Se supone que el resto de las tablas de encaminamiento no impiden ningún camino de comunicación.\n",
    "\n",
    "Se pide:\n",
    "    a. Asignar razonablemente todas las direcciones IP que faltan en la figura.\n",
    "    b. Puede hablar A con C?. Justifíque.\n",
    "    c. Puede hablar A con E?. Justifíque.\n",
    "    d. Cómo habría que modificar la tabla de A para que pueda hablar con E pero no con F?. Justifique.\n",
    "    \n",
    "![title](img/7.png)"
   ]
  },
  {
   "cell_type": "markdown",
   "metadata": {},
   "source": [
    "####     9. En el esquema de la figura las rutas de Piglet se sustituyen de : \n",
    "\n",
    "Piglet(config)# ip route 192.168.1.0    255.255.255.0    192.168.1.193\n",
    "Piglet(config)# ip route 10.4.0.0     255.255.0.0     192.168.1.193\n",
    "\n",
    "por estas otras:\n",
    "Piglet(config)# ip route 192.168.1.0    255.255.255.224   192.168.1.193 \n",
    "Piglet(config)# ip route 10.0.0.0   255.255.0.0    192.168.1.193\n",
    "\n",
    "Cuál es el resultado?  Nota: Tenga en cuenta que las reglas para sus redes adyacentes no se eliminan.\n",
    "\n",
    "![title](img/8.png)"
   ]
  },
  {
   "cell_type": "markdown",
   "metadata": {},
   "source": [
    "####     10. Desarrollar con la heramienta CORE la red de la figura. Se podrán manejar las direcciones IP que automáticamente asigne el programa. En estas condiciónes efectuar los siguientes pasos:\n",
    "\n",
    "        a. Utilizar el comando ifconfig para averiguar las direcciones IP otorgadas a los routers.\n",
    "        b. Efectuar un Ping desde la máquina n6 a n10. Consignar RTT.\n",
    "        c. Observar las tablas de encaminamiento del router n1 a efectos de ver por cuál camino se enruta el mensaje anterior. Utilice el comando traceroute desde el icono 1—2 del aplicativo para dibujar la ruta en el diagrama.\n",
    "        d. Con el comando iptables neutralice el forwarding que se efectúa en el router n2 o n3 que encamina hacia n10. Observe el resultado.\n",
    "        e. Agregue en el router n1 y en el opuesto (n2 o n3) en diagonal al anterior las rutas necesarias para lograr nuevamente el encaminamiento realizado en a.\n",
    "\n",
    "![title](img/9.png)"
   ]
  },
  {
   "cell_type": "markdown",
   "metadata": {},
   "source": [
    "#### 11. Dada la red de la figura siguiente, donde la máscara de subred es /24 y considerando la tabla de encaminamiento que aparece más abajo, se solicita:\n",
    "\n",
    "        a. Completar la tabla indicando en la casillas en blanco:\n",
    "            i. NO cuando no hay camino desde M hasta N.\n",
    "            ii. La secuencia de encaminadores intermedios cuando sí hay camino desde M hasta N.\n",
    "        b. Supongamos que se cae el encaminador R3, quedando fuera de servicio. Reconstruir las tablas de R1, R2, R4, R5, R6 y R7 para que sigan pudiendo comunicarse entre sí las mismas máquinas que lo hacían antes.\n",
    "        \n",
    "        c. Adaptar las tablas de los encaminadores (routers) para que pueda circular todo el tráfico con origen en X y destino en Z, pero sólo de forma que pase por la subred de B. Indicar sólo las rutas que habría que quitar, añadir o modificar. Se valorará realizar el menor numero de cambios en las tablas\n",
    "        \n",
    "![title](img/10a.png)\n",
    "![title](img/10b.png)\n",
    "\n",
    "![title](img/11.png)"
   ]
  },
  {
   "cell_type": "markdown",
   "metadata": {},
   "source": [
    "####     12. En una red cuya topología se indica en la figura, la máquina 10.0.2.10 envía un paquete IP a la máquina 10.0.0.10.\n",
    "\n",
    "        a. Indique el camino seguido por el paquete, detallando cada enrutador que atraviesa y la decisión que se toma en el mismo.\n",
    "        b. Indique si observa alguna anomalía y de existir cuál sería su solución.\n",
    "        c. Haga el mismo análisis que en a. y b. Pero cambiando la máscara de la red a 10.0.0.0/24. \n",
    "\n",
    "![title](img/12.png)"
   ]
  },
  {
   "cell_type": "markdown",
   "metadata": {},
   "source": [
    "####     13. En la red de la figura anterior, al router B se le agrega una placa Ethernet y se conecta a Internet con un esquema de NAT.\n",
    "\n",
    "        a. Indique una dirección válida que pueda otorgarle el ISP.\n",
    "        b. Si los dos HOST que se indican en la figura establecen una conexión cada uno, simultáneas con el servidor WEB de la Universidad de la patagonia cuya dirección IP es 200.37.12.88 y a su vez otra conexión cada uno de los HOST con el Servidor de Correo SMTP de Google (IP= 12.18.32.25), indique cuáles serán las direccciones y puertos que se utilizarán a un lado y otro del Router B, en uno y otro sentido, para permitir las cuatro conexiones apuntadas\n",
    "        c. Agregue las rutas necesarias a los routers asociados a los hosts en cuestión a efectos que el enrutamiento a internet sea posible sin restricciones."
   ]
  },
  {
   "cell_type": "markdown",
   "metadata": {},
   "source": [
    "#### 14.Cuál de las siguientes afirmaciones son correctas:\n",
    "\n",
    "Al encapsularse los mensajes de RIP en datagramas UDP: \n",
    "\n",
    "        a. RIP no sufre de problemas de la fragmentación de datagramas IP\n",
    "        b. RIP no sufre los problemas de descartado de paquetes por congestión en encaminadores routers.\n",
    "        c. Los mensajes de RIP se desencapsulan por número de puerto del datagrama UDP.\n",
    "        d. Los mensajes de RIP se desencapsulan por número de protocolo en el datagrama IP "
   ]
  },
  {
   "cell_type": "markdown",
   "metadata": {},
   "source": [
    "####     15. La figura muestra una red en la que se utiliza un protocolo de encaminamiento del tipo de estado de enlace. Las cifras sobre los enlaces indican el valor de distancia entre nodos en un instante dado. \n",
    "\n",
    "        a. Indica la información que contendra ́ el próximo paquete de estado de enlace que enviara ́ el nodo B. ¿A qué nodos llegará ́ esta información?  ",
    "\n",
    "        b. Supongamos que ahora se cambia el protocolo de encaminamiento por uno de vector de distancias. Indica la información que enviará el nodo B. ¿A qué nodos llegará esta información?  ",
    "\n",
    "        c. Atendiendo únicamente al número total de mensajes de información de encaminamiento que se generan en una ronda, explica razonadamente si para la red de la figura es mejor usar un algoritmo de encaminamiento de estado de enlace o de vector de distancias.  ",
    "\n",
    "        d. Atendiendo únicamente al tamaño de los mensajes de información de encaminamiento que se generan en una ronda, explica razonadamente si para la red de la figura es mejor usar un algoritmo de encaminamiento de estado de enlace o de vector de distancias.  ",
    "\n",
    "        \n",
    "![title](img/13.png)"
   ]
  },
  {
   "cell_type": "markdown",
   "metadata": {},
   "source": [
    "####     16. Juan esta ́ utilizando la computadora de su casa y no puede comunicarse con la máquina de su universidad (gsyc.escet.urjc.es).\n",
    "\n",
    "Al hacer un ping obtiene el siguiente mensaje: \n",
    "vmo$ ping gsyc.escet.urjc.es\n",
    "PING gsyc.escet.urjc.es (193.147.71.64): 56 data bytes\n",
    "36 bytes from v100.mpd01.mad05.atlas.cogentco.com (130.117.1.38): Time to live exceded\n",
    "Vr HL TOS Len ID Flg off TTL Pro cks Src Dst ",
    "4 5 00 0054 2b7b 0 0000 01 01 c3b0 192.168.1.2 193.147.71.64\n",
    " \n",
    "Al hacer un traceroute obtiene el siguiente mensaje:\n",
    "\n",
    "        vmo$ traceroute gsyc.escet.urjc.es\n",
    "        traceroute to gsyc.escet.urjc.es (193.147.71.64), 64 hops max, 40 byte packets \n",
    "        1 mygateway.ar7 (192.168.1.1) 48.066 ms 3.932 ms 3.173 ms\n",
    "        2 madhou.jazztel.es (212.106.217.74) 45.129 ms 68.204 ms 43.838 ms\n",
    "        3 madhou.jazztel.es (212.106.217.4) 44.337 ms 44.953 ms 44.815 ms\n",
    "        4 t3-4.mpd01.mad05.atlas.cogentco.com (130.117.241.221) 45.579 ms 70.780 ms 44.525 ms\n",
    "        5 *** ",
    "\n",
    "        6 v100.mpd01.mad05.atlas.cogentco.com (130.117.1.38) 63.228 ms 44.523 ms 44.619 ms ",
    "\n",
    "        7 *** ",
    "\n",
    "        8 v100.mpd01.mad05.atlas.cogentco.com (130.117.1.38) 59.143 ms 48.010 ms 45.734 ms ",
    "\n",
    "        9 *** \n",
    "\n",
    "        a. Cuál cree que es el problema? En qué nivel de las capas OSI?  ",
    "\n",
    "        b. Cuál es la dirección IP de la máquina de Juan y porqué? Dibuje un esquema de las máquinas que aparecen en las trazas.  ",
    "\n",
    "        c. Razoné acerca de qué tipo de acceso a Internet cree que tiene Juan.  ",
    "\n",
    "        d. Una máquina con la dirección IP= 192.168.1.3, en que ́ red o redes del esquema anterior podría estar? y una con la IP= 193.147.71.110?  ",
    "\n",
    "        e. Escriba la entrada de la tabla de encaminamiento de la máquina mygateway.ar7 que se usa cuando se ejecutan el ping y traceroute anteriores. \n",
    "        f. A la vista de estas trazas, cree que Juan se podría conectar a pantuflo.dat.escet.urjc.es? Si es que sí en que supuestos y si es que no justifíquelo. Lo mismo para mimaquina.alojamientos.com.  ",
    "\n",
    "        g. Suponiendo que las cachés de ARP están vacías antes del primer ping y con el esquema dibujado en el punto b, indicar los campos más relevantes de los paquetes ARP que se habrán generado como consecuencia del ping en las subredes de origen y destino.  "
   ]
  },
  {
   "cell_type": "code",
   "execution_count": null,
   "metadata": {},
   "outputs": [],
   "source": []
  }
 ],
 "metadata": {
  "kernelspec": {
   "display_name": "Python 3",
   "language": "python",
   "name": "python3"
  },
  "language_info": {
   "codemirror_mode": {
    "name": "ipython",
    "version": 3
   },
   "file_extension": ".py",
   "mimetype": "text/x-python",
   "name": "python",
   "nbconvert_exporter": "python",
   "pygments_lexer": "ipython3",
   "version": "3.6.7"
  }
 },
 "nbformat": 4,
 "nbformat_minor": 2
}
